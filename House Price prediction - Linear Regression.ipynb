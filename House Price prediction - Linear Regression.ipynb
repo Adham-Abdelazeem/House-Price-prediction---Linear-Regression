{
 "cells": [
  {
   "cell_type": "markdown",
   "id": "20e154f4",
   "metadata": {},
   "source": [
    "# import the libraries"
   ]
  },
  {
   "cell_type": "code",
   "execution_count": null,
   "id": "0130586b",
   "metadata": {},
   "outputs": [],
   "source": [
    "import numpy as np\n",
    "import pandas as pd\n",
    "import matplotlib.pyplot as plt\n",
    "from sklearn.linear_model import LinearRegression\n",
    "from sklearn.model_selection import train_test_split"
   ]
  },
  {
   "cell_type": "markdown",
   "id": "9f769a21",
   "metadata": {},
   "source": [
    "# load the input data of house prices from the csv file"
   ]
  },
  {
   "cell_type": "code",
   "execution_count": null,
   "id": "e19e5b5d",
   "metadata": {},
   "outputs": [],
   "source": [
    "data_path = r\"house_data.csv\"\n",
    "house_data = pd.read_csv(data_path)"
   ]
  },
  {
   "cell_type": "code",
   "execution_count": null,
   "id": "cfa51c0e",
   "metadata": {},
   "outputs": [],
   "source": [
    "house_data"
   ]
  },
  {
   "cell_type": "markdown",
   "id": "25109df6",
   "metadata": {},
   "source": [
    "# check the imported data"
   ]
  },
  {
   "cell_type": "code",
   "execution_count": null,
   "id": "965aff47",
   "metadata": {},
   "outputs": [],
   "source": [
    "print(house_data.head())"
   ]
  },
  {
   "cell_type": "code",
   "execution_count": null,
   "id": "ccdb1c02",
   "metadata": {},
   "outputs": [],
   "source": [
    "print(house_data.describe())"
   ]
  },
  {
   "cell_type": "markdown",
   "id": "22391528",
   "metadata": {},
   "source": [
    "# Visualize the data"
   ]
  },
  {
   "cell_type": "code",
   "execution_count": null,
   "id": "9ef89d70",
   "metadata": {},
   "outputs": [],
   "source": [
    "plt.scatter(house_data[\"sqft_living\"],house_data[\"price\"])"
   ]
  },
  {
   "cell_type": "code",
   "execution_count": null,
   "id": "bf9ed791",
   "metadata": {},
   "outputs": [],
   "source": [
    "#input data\n",
    "x = house_data.drop(['price','id','date'],axis=1)#axis =1 means from columns not rows\n",
    "\n",
    "#output data\n",
    "y = house_data['price']"
   ]
  },
  {
   "cell_type": "markdown",
   "id": "2d7827ae",
   "metadata": {},
   "source": [
    "# Select the model"
   ]
  },
  {
   "cell_type": "code",
   "execution_count": null,
   "id": "f2ec1b4c",
   "metadata": {},
   "outputs": [],
   "source": [
    "model = LinearRegression()"
   ]
  },
  {
   "cell_type": "markdown",
   "id": "e10c453e",
   "metadata": {},
   "source": [
    "# Split the data into training and testing data"
   ]
  },
  {
   "cell_type": "code",
   "execution_count": null,
   "id": "290601fc",
   "metadata": {},
   "outputs": [],
   "source": [
    "x_train , x_test , y_train ,y_test = train_test_split(x,y,test_size=0.2,random_state=2)#random_state : controls the shuffling applied to the data before applying the split."
   ]
  },
  {
   "cell_type": "code",
   "execution_count": null,
   "id": "65b8923e",
   "metadata": {},
   "outputs": [],
   "source": [
    "x_train.shape"
   ]
  },
  {
   "cell_type": "code",
   "execution_count": null,
   "id": "6be390a7",
   "metadata": {},
   "outputs": [],
   "source": [
    "y_train.shape"
   ]
  },
  {
   "cell_type": "markdown",
   "id": "9dd97fcc",
   "metadata": {},
   "source": [
    "# Train the model"
   ]
  },
  {
   "cell_type": "code",
   "execution_count": null,
   "id": "0a83762f",
   "metadata": {},
   "outputs": [],
   "source": [
    "model.fit(x_train,y_train)"
   ]
  },
  {
   "cell_type": "markdown",
   "id": "d0a99f6e",
   "metadata": {},
   "source": [
    "# Score the model against the test data"
   ]
  },
  {
   "cell_type": "code",
   "execution_count": null,
   "id": "76f2c8e7",
   "metadata": {},
   "outputs": [],
   "source": [
    "model.score(x_test,y_test)"
   ]
  }
 ],
 "metadata": {
  "kernelspec": {
   "display_name": "Python 3 (ipykernel)",
   "language": "python",
   "name": "python3"
  },
  "language_info": {
   "codemirror_mode": {
    "name": "ipython",
    "version": 3
   },
   "file_extension": ".py",
   "mimetype": "text/x-python",
   "name": "python",
   "nbconvert_exporter": "python",
   "pygments_lexer": "ipython3",
   "version": "3.10.4"
  }
 },
 "nbformat": 4,
 "nbformat_minor": 5
}
